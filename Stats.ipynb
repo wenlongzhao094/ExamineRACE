{
 "cells": [
  {
   "cell_type": "code",
   "execution_count": 1,
   "metadata": {},
   "outputs": [
    {
     "name": "stdout",
     "output_type": "stream",
     "text": [
      "['race id', '', 'required skills', '', 'Note', '', 'answer', 'BERT_Base']\n",
      "['8066', '1', '0', '', '', '', '3', '3']\n",
      "True\n",
      "['8066', '2', '0', '8', 'early in the morning', '', '0', '0']\n",
      "True\n"
     ]
    }
   ],
   "source": [
    "# Take a look at the csv format\n",
    "import csv\n",
    "middle_cates = csv.reader(open(\"middle_categorization.csv\"), delimiter=\",\")\n",
    "i = 1\n",
    "for row in middle_cates:\n",
    "    print(row)\n",
    "    if i>1: print(int(row[0])==8066)\n",
    "    if i==3: break\n",
    "    i += 1"
   ]
  },
  {
   "cell_type": "code",
   "execution_count": 2,
   "metadata": {
    "scrolled": true
   },
   "outputs": [
    {
     "name": "stdout",
     "output_type": "stream",
     "text": [
      "THIS IS ROW 1\n",
      "True\n",
      "race_id:8066\n",
      "\n",
      "THIS IS ROW 2\n",
      "False\n",
      "\n",
      "\n",
      "THIS IS ROW 3\n",
      "False\n",
      "answer: 3\n",
      "\n",
      "THIS IS ROW 4\n",
      "False\n",
      "prediction: 3\n",
      "\n",
      "THIS IS ROW 5\n",
      "False\n",
      "\n",
      "\n",
      "THIS IS ROW 6\n",
      "False\n",
      "choice: 0\n",
      "\n",
      "THIS IS ROW 7\n",
      "False\n",
      "[CLS] children in england must ##n ' t work until they are 13 . they need to have a work permit to start working . the jobs teenagers can do delivering newspapers many teenagers will get up early to deliver newspapers to houses in their local area before going to school . they are known as paper - boys or paper ##girl ##s . baby ##sit ##ting : looking after young children in their home while their parents have gone out for the evening is a popular job for teenagers , as they get money for watching children and television all at the same time ! helping the milk ##man : from the age of 14 some teenagers help the milk ##man deliver milk to houses . other popular jobs : working in a shop ; office work ; washing cars ; in a cafe or restaurant . the hours teenagers ( 13 and 14 year olds ) can work : school days not more than 2 hours in one day during the following periods : morning 7 a . m . - - start of school or evening close of school - - 7 p . m . saturdays : up to 5 hours between 7 a . m . and 7 p . m . sundays up to 2 hours between 7 a . m . and 11 a . m . term time up to 12 hours a week ( including weekends ) [SEP] in england how old do children have to be before they can work ? [SEP] 15 . [SEP] [PAD] [PAD] [PAD] [PAD] [PAD] [PAD] [PAD] [PAD] [PAD] [PAD] [PAD] [PAD] [PAD] [PAD] [PAD] [PAD] [PAD] [PAD] [PAD] [PAD] [PAD] [PAD] [PAD] [PAD] [PAD] [PAD] [PAD] [PAD] [PAD] [PAD] [PAD] [PAD] [PAD] [PAD] [PAD] [PAD] [PAD] [PAD] [PAD] [PAD] [PAD] [PAD] [PAD] [PAD] [PAD] [PAD] [PAD] [PAD] [PAD] [PAD] [PAD] [PAD] [PAD] [PAD] [PAD] [PAD] [PAD] [PAD] [PAD] [PAD] [PAD] [PAD] [PAD] [PAD] [PAD] [PAD] [PAD] [PAD] [PAD] [PAD] [PAD] [PAD] [PAD] [PAD] [PAD] [PAD] [PAD] [PAD] [PAD] [PAD] [PAD] [PAD] [PAD] [PAD] [PAD] [PAD] [PAD] [PAD] [PAD] [PAD] [PAD] [PAD] [PAD] [PAD] [PAD] [PAD] [PAD] [PAD] [PAD] [PAD] [PAD] [PAD] [PAD] [PAD] [PAD] [PAD] [PAD] [PAD] [PAD] [PAD] [PAD] [PAD] [PAD] [PAD] [PAD] [PAD] [PAD] [PAD] [PAD] [PAD] [PAD] [PAD] [PAD] [PAD] [PAD] [PAD] [PAD] [PAD] [PAD] [PAD] [PAD] [PAD] [PAD] [PAD] [PAD]\n",
      "\n",
      "THIS IS ROW 8\n",
      "False\n",
      "\n",
      "\n",
      "THIS IS ROW 9\n",
      "False\n",
      "choice: 1\n",
      "\n",
      "THIS IS ROW 10\n",
      "False\n",
      "[CLS] children in england must ##n ' t work until they are 13 . they need to have a work permit to start working . the jobs teenagers can do delivering newspapers many teenagers will get up early to deliver newspapers to houses in their local area before going to school . they are known as paper - boys or paper ##girl ##s . baby ##sit ##ting : looking after young children in their home while their parents have gone out for the evening is a popular job for teenagers , as they get money for watching children and television all at the same time ! helping the milk ##man : from the age of 14 some teenagers help the milk ##man deliver milk to houses . other popular jobs : working in a shop ; office work ; washing cars ; in a cafe or restaurant . the hours teenagers ( 13 and 14 year olds ) can work : school days not more than 2 hours in one day during the following periods : morning 7 a . m . - - start of school or evening close of school - - 7 p . m . saturdays : up to 5 hours between 7 a . m . and 7 p . m . sundays up to 2 hours between 7 a . m . and 11 a . m . term time up to 12 hours a week ( including weekends ) [SEP] in england how old do children have to be before they can work ? [SEP] 14 . [SEP] [PAD] [PAD] [PAD] [PAD] [PAD] [PAD] [PAD] [PAD] [PAD] [PAD] [PAD] [PAD] [PAD] [PAD] [PAD] [PAD] [PAD] [PAD] [PAD] [PAD] [PAD] [PAD] [PAD] [PAD] [PAD] [PAD] [PAD] [PAD] [PAD] [PAD] [PAD] [PAD] [PAD] [PAD] [PAD] [PAD] [PAD] [PAD] [PAD] [PAD] [PAD] [PAD] [PAD] [PAD] [PAD] [PAD] [PAD] [PAD] [PAD] [PAD] [PAD] [PAD] [PAD] [PAD] [PAD] [PAD] [PAD] [PAD] [PAD] [PAD] [PAD] [PAD] [PAD] [PAD] [PAD] [PAD] [PAD] [PAD] [PAD] [PAD] [PAD] [PAD] [PAD] [PAD] [PAD] [PAD] [PAD] [PAD] [PAD] [PAD] [PAD] [PAD] [PAD] [PAD] [PAD] [PAD] [PAD] [PAD] [PAD] [PAD] [PAD] [PAD] [PAD] [PAD] [PAD] [PAD] [PAD] [PAD] [PAD] [PAD] [PAD] [PAD] [PAD] [PAD] [PAD] [PAD] [PAD] [PAD] [PAD] [PAD] [PAD] [PAD] [PAD] [PAD] [PAD] [PAD] [PAD] [PAD] [PAD] [PAD] [PAD] [PAD] [PAD] [PAD] [PAD] [PAD] [PAD] [PAD] [PAD] [PAD] [PAD] [PAD] [PAD] [PAD] [PAD]\n",
      "\n",
      "THIS IS ROW 11\n",
      "False\n",
      "\n",
      "\n",
      "THIS IS ROW 12\n",
      "False\n",
      "choice: 2\n",
      "\n",
      "THIS IS ROW 13\n",
      "False\n",
      "[CLS] children in england must ##n ' t work until they are 13 . they need to have a work permit to start working . the jobs teenagers can do delivering newspapers many teenagers will get up early to deliver newspapers to houses in their local area before going to school . they are known as paper - boys or paper ##girl ##s . baby ##sit ##ting : looking after young children in their home while their parents have gone out for the evening is a popular job for teenagers , as they get money for watching children and television all at the same time ! helping the milk ##man : from the age of 14 some teenagers help the milk ##man deliver milk to houses . other popular jobs : working in a shop ; office work ; washing cars ; in a cafe or restaurant . the hours teenagers ( 13 and 14 year olds ) can work : school days not more than 2 hours in one day during the following periods : morning 7 a . m . - - start of school or evening close of school - - 7 p . m . saturdays : up to 5 hours between 7 a . m . and 7 p . m . sundays up to 2 hours between 7 a . m . and 11 a . m . term time up to 12 hours a week ( including weekends ) [SEP] in england how old do children have to be before they can work ? [SEP] 10 . [SEP] [PAD] [PAD] [PAD] [PAD] [PAD] [PAD] [PAD] [PAD] [PAD] [PAD] [PAD] [PAD] [PAD] [PAD] [PAD] [PAD] [PAD] [PAD] [PAD] [PAD] [PAD] [PAD] [PAD] [PAD] [PAD] [PAD] [PAD] [PAD] [PAD] [PAD] [PAD] [PAD] [PAD] [PAD] [PAD] [PAD] [PAD] [PAD] [PAD] [PAD] [PAD] [PAD] [PAD] [PAD] [PAD] [PAD] [PAD] [PAD] [PAD] [PAD] [PAD] [PAD] [PAD] [PAD] [PAD] [PAD] [PAD] [PAD] [PAD] [PAD] [PAD] [PAD] [PAD] [PAD] [PAD] [PAD] [PAD] [PAD] [PAD] [PAD] [PAD] [PAD] [PAD] [PAD] [PAD] [PAD] [PAD] [PAD] [PAD] [PAD] [PAD] [PAD] [PAD] [PAD] [PAD] [PAD] [PAD] [PAD] [PAD] [PAD] [PAD] [PAD] [PAD] [PAD] [PAD] [PAD] [PAD] [PAD] [PAD] [PAD] [PAD] [PAD] [PAD] [PAD] [PAD] [PAD] [PAD] [PAD] [PAD] [PAD] [PAD] [PAD] [PAD] [PAD] [PAD] [PAD] [PAD] [PAD] [PAD] [PAD] [PAD] [PAD] [PAD] [PAD] [PAD] [PAD] [PAD] [PAD] [PAD] [PAD] [PAD] [PAD] [PAD] [PAD] [PAD]\n",
      "\n",
      "THIS IS ROW 14\n",
      "False\n",
      "\n",
      "\n",
      "THIS IS ROW 15\n",
      "False\n",
      "choice: 3\n",
      "\n",
      "THIS IS ROW 16\n",
      "False\n",
      "[CLS] children in england must ##n ' t work until they are 13 . they need to have a work permit to start working . the jobs teenagers can do delivering newspapers many teenagers will get up early to deliver newspapers to houses in their local area before going to school . they are known as paper - boys or paper ##girl ##s . baby ##sit ##ting : looking after young children in their home while their parents have gone out for the evening is a popular job for teenagers , as they get money for watching children and television all at the same time ! helping the milk ##man : from the age of 14 some teenagers help the milk ##man deliver milk to houses . other popular jobs : working in a shop ; office work ; washing cars ; in a cafe or restaurant . the hours teenagers ( 13 and 14 year olds ) can work : school days not more than 2 hours in one day during the following periods : morning 7 a . m . - - start of school or evening close of school - - 7 p . m . saturdays : up to 5 hours between 7 a . m . and 7 p . m . sundays up to 2 hours between 7 a . m . and 11 a . m . term time up to 12 hours a week ( including weekends ) [SEP] in england how old do children have to be before they can work ? [SEP] 13 . [SEP] [PAD] [PAD] [PAD] [PAD] [PAD] [PAD] [PAD] [PAD] [PAD] [PAD] [PAD] [PAD] [PAD] [PAD] [PAD] [PAD] [PAD] [PAD] [PAD] [PAD] [PAD] [PAD] [PAD] [PAD] [PAD] [PAD] [PAD] [PAD] [PAD] [PAD] [PAD] [PAD] [PAD] [PAD] [PAD] [PAD] [PAD] [PAD] [PAD] [PAD] [PAD] [PAD] [PAD] [PAD] [PAD] [PAD] [PAD] [PAD] [PAD] [PAD] [PAD] [PAD] [PAD] [PAD] [PAD] [PAD] [PAD] [PAD] [PAD] [PAD] [PAD] [PAD] [PAD] [PAD] [PAD] [PAD] [PAD] [PAD] [PAD] [PAD] [PAD] [PAD] [PAD] [PAD] [PAD] [PAD] [PAD] [PAD] [PAD] [PAD] [PAD] [PAD] [PAD] [PAD] [PAD] [PAD] [PAD] [PAD] [PAD] [PAD] [PAD] [PAD] [PAD] [PAD] [PAD] [PAD] [PAD] [PAD] [PAD] [PAD] [PAD] [PAD] [PAD] [PAD] [PAD] [PAD] [PAD] [PAD] [PAD] [PAD] [PAD] [PAD] [PAD] [PAD] [PAD] [PAD] [PAD] [PAD] [PAD] [PAD] [PAD] [PAD] [PAD] [PAD] [PAD] [PAD] [PAD] [PAD] [PAD] [PAD] [PAD] [PAD] [PAD] [PAD] [PAD]\n",
      "\n",
      "THIS IS ROW 17\n",
      "False\n",
      "\n",
      "\n"
     ]
    }
   ],
   "source": [
    "# Take a look at the prediction file\n",
    "def read_pred(file):\n",
    "    for line in file:\n",
    "        yield line\n",
    "    \n",
    "file = open(\"BERT_Base/analyze_middle.txt\", \"r\")\n",
    "middle_pred_ite = read_pred(file)\n",
    "for i in range(17):\n",
    "    row = next(middle_pred_ite)\n",
    "    print(\"THIS IS ROW %s\" % str(i+1))\n",
    "    print(row.strip()=='race_id:8066')\n",
    "    print(row)"
   ]
  },
  {
   "cell_type": "code",
   "execution_count": 3,
   "metadata": {
    "scrolled": true
   },
   "outputs": [
    {
     "name": "stdout",
     "output_type": "stream",
     "text": [
      "THIS IS ROW 1\n",
      "race_id:8066\n",
      "THIS IS ROW 2\n",
      "\n",
      "THIS IS ROW 3\n",
      "answer: 3\n",
      "THIS IS ROW 4\n",
      "prediction: 3\n",
      "THIS IS ROW 5\n",
      "\n",
      "THIS IS ROW 6\n",
      "choice: 0\n",
      "THIS IS ROW 7\n",
      "[CLS] children in england must ##n ' t work until they are 13 . they need to have a work permit to start working . the jobs teenagers can do delivering newspapers many teenagers will get up early to deliver newspapers to houses in their local area before going to school . they are known as paper - boys or paper ##girl ##s . baby ##sit ##ting : looking after young children in their home while their parents have gone out for the evening is a popular job for teenagers , as they get money for watching children and television all at the same time ! helping the milk ##man : from the age of 14 some teenagers help the milk ##man deliver milk to houses . other popular jobs : working in a shop ; office work ; washing cars ; in a cafe or restaurant . the hours teenagers ( 13 and 14 year olds ) can work : school days not more than 2 hours in one day during the following periods : morning 7 a . m . - - start of school or evening close of school - - 7 p . m . saturdays : up to 5 hours between 7 a . m . and 7 p . m . sundays up to 2 hours between 7 a . m . and 11 a . m . term time up to 12 hours a week ( including weekends ) [SEP] in england how old do children have to be before they can work ? [SEP] 15 . [SEP] [PAD] [PAD] [PAD] [PAD] [PAD] [PAD] [PAD] [PAD] [PAD] [PAD] [PAD] [PAD] [PAD] [PAD] [PAD] [PAD] [PAD] [PAD] [PAD] [PAD] [PAD] [PAD] [PAD] [PAD] [PAD] [PAD] [PAD] [PAD] [PAD] [PAD] [PAD] [PAD] [PAD] [PAD] [PAD] [PAD] [PAD] [PAD] [PAD] [PAD] [PAD] [PAD] [PAD] [PAD] [PAD] [PAD] [PAD] [PAD] [PAD] [PAD] [PAD] [PAD] [PAD] [PAD] [PAD] [PAD] [PAD] [PAD] [PAD] [PAD] [PAD] [PAD] [PAD] [PAD] [PAD] [PAD] [PAD] [PAD] [PAD] [PAD] [PAD] [PAD] [PAD] [PAD] [PAD] [PAD] [PAD] [PAD] [PAD] [PAD] [PAD] [PAD] [PAD] [PAD] [PAD] [PAD] [PAD] [PAD] [PAD] [PAD] [PAD] [PAD] [PAD] [PAD] [PAD] [PAD] [PAD] [PAD] [PAD] [PAD] [PAD] [PAD] [PAD] [PAD] [PAD] [PAD] [PAD] [PAD] [PAD] [PAD] [PAD] [PAD] [PAD] [PAD] [PAD] [PAD] [PAD] [PAD] [PAD] [PAD] [PAD] [PAD] [PAD] [PAD] [PAD] [PAD] [PAD] [PAD] [PAD] [PAD] [PAD] [PAD] [PAD] [PAD] [PAD]\n",
      "THIS IS ROW 8\n",
      "\n",
      "THIS IS ROW 9\n",
      "choice: 1\n",
      "THIS IS ROW 10\n",
      "[CLS] children in england must ##n ' t work until they are 13 . they need to have a work permit to start working . the jobs teenagers can do delivering newspapers many teenagers will get up early to deliver newspapers to houses in their local area before going to school . they are known as paper - boys or paper ##girl ##s . baby ##sit ##ting : looking after young children in their home while their parents have gone out for the evening is a popular job for teenagers , as they get money for watching children and television all at the same time ! helping the milk ##man : from the age of 14 some teenagers help the milk ##man deliver milk to houses . other popular jobs : working in a shop ; office work ; washing cars ; in a cafe or restaurant . the hours teenagers ( 13 and 14 year olds ) can work : school days not more than 2 hours in one day during the following periods : morning 7 a . m . - - start of school or evening close of school - - 7 p . m . saturdays : up to 5 hours between 7 a . m . and 7 p . m . sundays up to 2 hours between 7 a . m . and 11 a . m . term time up to 12 hours a week ( including weekends ) [SEP] in england how old do children have to be before they can work ? [SEP] 14 . [SEP] [PAD] [PAD] [PAD] [PAD] [PAD] [PAD] [PAD] [PAD] [PAD] [PAD] [PAD] [PAD] [PAD] [PAD] [PAD] [PAD] [PAD] [PAD] [PAD] [PAD] [PAD] [PAD] [PAD] [PAD] [PAD] [PAD] [PAD] [PAD] [PAD] [PAD] [PAD] [PAD] [PAD] [PAD] [PAD] [PAD] [PAD] [PAD] [PAD] [PAD] [PAD] [PAD] [PAD] [PAD] [PAD] [PAD] [PAD] [PAD] [PAD] [PAD] [PAD] [PAD] [PAD] [PAD] [PAD] [PAD] [PAD] [PAD] [PAD] [PAD] [PAD] [PAD] [PAD] [PAD] [PAD] [PAD] [PAD] [PAD] [PAD] [PAD] [PAD] [PAD] [PAD] [PAD] [PAD] [PAD] [PAD] [PAD] [PAD] [PAD] [PAD] [PAD] [PAD] [PAD] [PAD] [PAD] [PAD] [PAD] [PAD] [PAD] [PAD] [PAD] [PAD] [PAD] [PAD] [PAD] [PAD] [PAD] [PAD] [PAD] [PAD] [PAD] [PAD] [PAD] [PAD] [PAD] [PAD] [PAD] [PAD] [PAD] [PAD] [PAD] [PAD] [PAD] [PAD] [PAD] [PAD] [PAD] [PAD] [PAD] [PAD] [PAD] [PAD] [PAD] [PAD] [PAD] [PAD] [PAD] [PAD] [PAD] [PAD] [PAD] [PAD] [PAD] [PAD]\n",
      "THIS IS ROW 11\n",
      "\n",
      "THIS IS ROW 12\n",
      "choice: 2\n",
      "THIS IS ROW 13\n",
      "[CLS] children in england must ##n ' t work until they are 13 . they need to have a work permit to start working . the jobs teenagers can do delivering newspapers many teenagers will get up early to deliver newspapers to houses in their local area before going to school . they are known as paper - boys or paper ##girl ##s . baby ##sit ##ting : looking after young children in their home while their parents have gone out for the evening is a popular job for teenagers , as they get money for watching children and television all at the same time ! helping the milk ##man : from the age of 14 some teenagers help the milk ##man deliver milk to houses . other popular jobs : working in a shop ; office work ; washing cars ; in a cafe or restaurant . the hours teenagers ( 13 and 14 year olds ) can work : school days not more than 2 hours in one day during the following periods : morning 7 a . m . - - start of school or evening close of school - - 7 p . m . saturdays : up to 5 hours between 7 a . m . and 7 p . m . sundays up to 2 hours between 7 a . m . and 11 a . m . term time up to 12 hours a week ( including weekends ) [SEP] in england how old do children have to be before they can work ? [SEP] 10 . [SEP] [PAD] [PAD] [PAD] [PAD] [PAD] [PAD] [PAD] [PAD] [PAD] [PAD] [PAD] [PAD] [PAD] [PAD] [PAD] [PAD] [PAD] [PAD] [PAD] [PAD] [PAD] [PAD] [PAD] [PAD] [PAD] [PAD] [PAD] [PAD] [PAD] [PAD] [PAD] [PAD] [PAD] [PAD] [PAD] [PAD] [PAD] [PAD] [PAD] [PAD] [PAD] [PAD] [PAD] [PAD] [PAD] [PAD] [PAD] [PAD] [PAD] [PAD] [PAD] [PAD] [PAD] [PAD] [PAD] [PAD] [PAD] [PAD] [PAD] [PAD] [PAD] [PAD] [PAD] [PAD] [PAD] [PAD] [PAD] [PAD] [PAD] [PAD] [PAD] [PAD] [PAD] [PAD] [PAD] [PAD] [PAD] [PAD] [PAD] [PAD] [PAD] [PAD] [PAD] [PAD] [PAD] [PAD] [PAD] [PAD] [PAD] [PAD] [PAD] [PAD] [PAD] [PAD] [PAD] [PAD] [PAD] [PAD] [PAD] [PAD] [PAD] [PAD] [PAD] [PAD] [PAD] [PAD] [PAD] [PAD] [PAD] [PAD] [PAD] [PAD] [PAD] [PAD] [PAD] [PAD] [PAD] [PAD] [PAD] [PAD] [PAD] [PAD] [PAD] [PAD] [PAD] [PAD] [PAD] [PAD] [PAD] [PAD] [PAD] [PAD] [PAD] [PAD] [PAD]\n",
      "THIS IS ROW 14\n",
      "\n",
      "THIS IS ROW 15\n",
      "choice: 3\n",
      "THIS IS ROW 16\n",
      "[CLS] children in england must ##n ' t work until they are 13 . they need to have a work permit to start working . the jobs teenagers can do delivering newspapers many teenagers will get up early to deliver newspapers to houses in their local area before going to school . they are known as paper - boys or paper ##girl ##s . baby ##sit ##ting : looking after young children in their home while their parents have gone out for the evening is a popular job for teenagers , as they get money for watching children and television all at the same time ! helping the milk ##man : from the age of 14 some teenagers help the milk ##man deliver milk to houses . other popular jobs : working in a shop ; office work ; washing cars ; in a cafe or restaurant . the hours teenagers ( 13 and 14 year olds ) can work : school days not more than 2 hours in one day during the following periods : morning 7 a . m . - - start of school or evening close of school - - 7 p . m . saturdays : up to 5 hours between 7 a . m . and 7 p . m . sundays up to 2 hours between 7 a . m . and 11 a . m . term time up to 12 hours a week ( including weekends ) [SEP] in england how old do children have to be before they can work ? [SEP] 13 . [SEP] [PAD] [PAD] [PAD] [PAD] [PAD] [PAD] [PAD] [PAD] [PAD] [PAD] [PAD] [PAD] [PAD] [PAD] [PAD] [PAD] [PAD] [PAD] [PAD] [PAD] [PAD] [PAD] [PAD] [PAD] [PAD] [PAD] [PAD] [PAD] [PAD] [PAD] [PAD] [PAD] [PAD] [PAD] [PAD] [PAD] [PAD] [PAD] [PAD] [PAD] [PAD] [PAD] [PAD] [PAD] [PAD] [PAD] [PAD] [PAD] [PAD] [PAD] [PAD] [PAD] [PAD] [PAD] [PAD] [PAD] [PAD] [PAD] [PAD] [PAD] [PAD] [PAD] [PAD] [PAD] [PAD] [PAD] [PAD] [PAD] [PAD] [PAD] [PAD] [PAD] [PAD] [PAD] [PAD] [PAD] [PAD] [PAD] [PAD] [PAD] [PAD] [PAD] [PAD] [PAD] [PAD] [PAD] [PAD] [PAD] [PAD] [PAD] [PAD] [PAD] [PAD] [PAD] [PAD] [PAD] [PAD] [PAD] [PAD] [PAD] [PAD] [PAD] [PAD] [PAD] [PAD] [PAD] [PAD] [PAD] [PAD] [PAD] [PAD] [PAD] [PAD] [PAD] [PAD] [PAD] [PAD] [PAD] [PAD] [PAD] [PAD] [PAD] [PAD] [PAD] [PAD] [PAD] [PAD] [PAD] [PAD] [PAD] [PAD] [PAD] [PAD] [PAD] [PAD]\n",
      "THIS IS ROW 17\n",
      "\n",
      "True\n"
     ]
    }
   ],
   "source": [
    "# Take a look at the prediction file\n",
    "def read_pred(file):\n",
    "    for line in file:\n",
    "        yield line\n",
    "    \n",
    "file = open(\"BERT_Base/analyze_middle.txt\", \"r\")\n",
    "middle_pred_ite = read_pred(file)\n",
    "pqa = []\n",
    "for i in range(17):\n",
    "    pqa.append(next(middle_pred_ite).strip())\n",
    "for i in range(17):\n",
    "    print(\"THIS IS ROW %s\" % str(i+1))\n",
    "    print(pqa[i])\n",
    "print(pqa[0][8:] == \"8066\")"
   ]
  },
  {
   "cell_type": "code",
   "execution_count": 11,
   "metadata": {},
   "outputs": [],
   "source": [
    "# count and calculate stats\n",
    "\n",
    "import csv\n",
    "from collections import defaultdict\n",
    "\n",
    "skill_set = [\"Lexical Matching\",\n",
    "            \"Logical Reasoning\",\n",
    "            \"Relation Identification\",\n",
    "            \"Summary\",\n",
    "            \"Coreference Resolution\",\n",
    "            \"Algebraic Reasoning\",\n",
    "            \"Commonsense Reasoning\",\n",
    "            \"Special Questions\"]\n",
    "\n",
    "def calc_stats(csv_file, txt_file, count_by_cat=None, correct_by_cat=None,\n",
    "              print_result = True):\n",
    "    categorizations = csv.reader(open(csv_file), delimiter=\",\")\n",
    "\n",
    "    if count_by_cat == None: count_by_cat = defaultdict(int)\n",
    "    if correct_by_cat == None: correct_by_cat = defaultdict(int)\n",
    "\n",
    "    def read_pred(file):\n",
    "        for line in file:\n",
    "            yield line\n",
    "\n",
    "    pred_ite = read_pred(open(txt_file, \"r\"))\n",
    "    curr_id = 0\n",
    "    curr_question = 0\n",
    "    header = True\n",
    "    pqa = []\n",
    "    for categorization in categorizations:\n",
    "        if header:\n",
    "            header = False\n",
    "            continue\n",
    "        target_id = int(categorization[0])\n",
    "        target_question = int(categorization[1])\n",
    "        skill_idx = int(categorization[2])\n",
    "        target_answer = int(categorization[6])\n",
    "\n",
    "        # loop until we find the target question\n",
    "        while(True):\n",
    "            pqa.clear()\n",
    "            for i in range(17):\n",
    "                pqa.append(next(pred_ite).strip()) # TODO:reinitialize\n",
    "            if pqa[0][8:] != curr_id:\n",
    "                curr_id = pqa[0][8:]\n",
    "                curr_question = 1\n",
    "            else:\n",
    "                curr_question += 1\n",
    "            if int(curr_id) == target_id and curr_question == target_question:\n",
    "                break\n",
    "\n",
    "        assert(target_answer == int(pqa[2][8]))\n",
    "\n",
    "        count_by_cat[skill_idx] += 1\n",
    "        if target_answer == int(pqa[3][12]):\n",
    "            correct_by_cat[skill_idx] += 1\n",
    "\n",
    "    if print_result:\n",
    "        for skill_idx in range(8):\n",
    "            print(skill_set[skill_idx])\n",
    "            print(\"\\tcount: \", count_by_cat[skill_idx])\n",
    "            print(\"\\tcorrect: \", correct_by_cat[skill_idx])\n",
    "            if count_by_cat[skill_idx]==0: continue\n",
    "            print(\"\\taccuracy: \", correct_by_cat[skill_idx]/count_by_cat[skill_idx])\n",
    "        \n",
    "    return count_by_cat, correct_by_cat"
   ]
  },
  {
   "cell_type": "code",
   "execution_count": 12,
   "metadata": {},
   "outputs": [
    {
     "name": "stdout",
     "output_type": "stream",
     "text": [
      "Lexical Matching\n",
      "\tcount:  150\n",
      "\tcorrect:  138\n",
      "\taccuracy:  0.92\n",
      "Logical Reasoning\n",
      "\tcount:  34\n",
      "\tcorrect:  18\n",
      "\taccuracy:  0.5294117647058824\n",
      "Relation Identification\n",
      "\tcount:  16\n",
      "\tcorrect:  3\n",
      "\taccuracy:  0.1875\n",
      "Summary\n",
      "\tcount:  42\n",
      "\tcorrect:  28\n",
      "\taccuracy:  0.6666666666666666\n",
      "Coreference Resolution\n",
      "\tcount:  7\n",
      "\tcorrect:  2\n",
      "\taccuracy:  0.2857142857142857\n",
      "Algebraic Reasoning\n",
      "\tcount:  8\n",
      "\tcorrect:  3\n",
      "\taccuracy:  0.375\n",
      "Commonsense Reasoning\n",
      "\tcount:  35\n",
      "\tcorrect:  13\n",
      "\taccuracy:  0.37142857142857144\n",
      "Special Questions\n",
      "\tcount:  7\n",
      "\tcorrect:  5\n",
      "\taccuracy:  0.7142857142857143\n"
     ]
    },
    {
     "data": {
      "text/plain": [
       "(defaultdict(int,\n",
       "             {0: 150, 1: 34, 5: 8, 6: 35, 4: 7, 3: 42, 10: 1, 2: 16, 7: 7}),\n",
       " defaultdict(int,\n",
       "             {0: 138, 1: 18, 4: 2, 5: 3, 3: 28, 10: 1, 2: 3, 6: 13, 7: 5}))"
      ]
     },
     "execution_count": 12,
     "metadata": {},
     "output_type": "execute_result"
    }
   ],
   "source": [
    "cnt, correct = calc_stats(\"middle_categorization.csv\", \"BERT_Base/analyze_middle.txt\", \n",
    "                          print_result=False)\n",
    "calc_stats(\"high_categorization.csv\", \"BERT_Base/analyze_high.txt\", cnt, correct)"
   ]
  },
  {
   "cell_type": "code",
   "execution_count": 13,
   "metadata": {},
   "outputs": [
    {
     "name": "stdout",
     "output_type": "stream",
     "text": [
      "Lexical Matching\n",
      "\tcount:  150\n",
      "\tcorrect:  132\n",
      "\taccuracy:  0.88\n",
      "Logical Reasoning\n",
      "\tcount:  34\n",
      "\tcorrect:  25\n",
      "\taccuracy:  0.7352941176470589\n",
      "Relation Identification\n",
      "\tcount:  16\n",
      "\tcorrect:  8\n",
      "\taccuracy:  0.5\n",
      "Summary\n",
      "\tcount:  42\n",
      "\tcorrect:  33\n",
      "\taccuracy:  0.7857142857142857\n",
      "Coreference Resolution\n",
      "\tcount:  7\n",
      "\tcorrect:  6\n",
      "\taccuracy:  0.8571428571428571\n",
      "Algebraic Reasoning\n",
      "\tcount:  8\n",
      "\tcorrect:  3\n",
      "\taccuracy:  0.375\n",
      "Commonsense Reasoning\n",
      "\tcount:  35\n",
      "\tcorrect:  17\n",
      "\taccuracy:  0.4857142857142857\n",
      "Special Questions\n",
      "\tcount:  7\n",
      "\tcorrect:  5\n",
      "\taccuracy:  0.7142857142857143\n"
     ]
    },
    {
     "data": {
      "text/plain": [
       "(defaultdict(int,\n",
       "             {0: 150, 1: 34, 5: 8, 6: 35, 4: 7, 3: 42, 10: 1, 2: 16, 7: 7}),\n",
       " defaultdict(int,\n",
       "             {0: 132, 1: 25, 4: 6, 6: 17, 3: 33, 10: 1, 2: 8, 5: 3, 7: 5}))"
      ]
     },
     "execution_count": 13,
     "metadata": {},
     "output_type": "execute_result"
    }
   ],
   "source": [
    "cnt, correct = calc_stats(\"middle_categorization.csv\", \"BERT_Large/analyze_middle.txt\", \n",
    "                          print_result=False)\n",
    "calc_stats(\"high_categorization.csv\", \"BERT_Large/analyze_high.txt\", cnt, correct)"
   ]
  },
  {
   "cell_type": "code",
   "execution_count": 14,
   "metadata": {},
   "outputs": [
    {
     "name": "stdout",
     "output_type": "stream",
     "text": [
      "Lexical Matching\n",
      "\tcount:  150\n",
      "\tcorrect:  135\n",
      "\taccuracy:  0.9\n",
      "Logical Reasoning\n",
      "\tcount:  34\n",
      "\tcorrect:  20\n",
      "\taccuracy:  0.5882352941176471\n",
      "Relation Identification\n",
      "\tcount:  16\n",
      "\tcorrect:  7\n",
      "\taccuracy:  0.4375\n",
      "Summary\n",
      "\tcount:  42\n",
      "\tcorrect:  28\n",
      "\taccuracy:  0.6666666666666666\n",
      "Coreference Resolution\n",
      "\tcount:  7\n",
      "\tcorrect:  4\n",
      "\taccuracy:  0.5714285714285714\n",
      "Algebraic Reasoning\n",
      "\tcount:  8\n",
      "\tcorrect:  1\n",
      "\taccuracy:  0.125\n",
      "Commonsense Reasoning\n",
      "\tcount:  35\n",
      "\tcorrect:  16\n",
      "\taccuracy:  0.45714285714285713\n",
      "Special Questions\n",
      "\tcount:  7\n",
      "\tcorrect:  5\n",
      "\taccuracy:  0.7142857142857143\n"
     ]
    },
    {
     "data": {
      "text/plain": [
       "(defaultdict(int,\n",
       "             {0: 150, 1: 34, 5: 8, 6: 35, 4: 7, 3: 42, 10: 1, 2: 16, 7: 7}),\n",
       " defaultdict(int,\n",
       "             {0: 135, 1: 20, 4: 4, 6: 16, 3: 28, 10: 1, 2: 7, 5: 1, 7: 5}))"
      ]
     },
     "execution_count": 14,
     "metadata": {},
     "output_type": "execute_result"
    }
   ],
   "source": [
    "cnt, correct = calc_stats(\"middle_categorization.csv\", \"DCMN_Base/analyze_middle.txt\", \n",
    "                          print_result=False)\n",
    "calc_stats(\"high_categorization.csv\", \"DCMN_Base/analyze_high.txt\", cnt, correct)"
   ]
  },
  {
   "cell_type": "code",
   "execution_count": 5,
   "metadata": {},
   "outputs": [
    {
     "name": "stdout",
     "output_type": "stream",
     "text": [
      "Lexical Matching\n",
      "\tcount:  81\n",
      "\tcorrect:  73\n",
      "\taccuracy:  0.9012345679012346\n",
      "Logical Reasoning\n",
      "\tcount:  13\n",
      "\tcorrect:  8\n",
      "\taccuracy:  0.6153846153846154\n",
      "Relation Identification\n",
      "\tcount:  11\n",
      "\tcorrect:  2\n",
      "\taccuracy:  0.18181818181818182\n",
      "Summary\n",
      "\tcount:  14\n",
      "\tcorrect:  9\n",
      "\taccuracy:  0.6428571428571429\n",
      "Coreference Resolution\n",
      "\tcount:  5\n",
      "\tcorrect:  1\n",
      "\taccuracy:  0.2\n",
      "Algebraic Reasoning\n",
      "\tcount:  4\n",
      "\tcorrect:  2\n",
      "\taccuracy:  0.5\n",
      "Commonsense Reasoning\n",
      "\tcount:  20\n",
      "\tcorrect:  4\n",
      "\taccuracy:  0.2\n",
      "Special Questions\n",
      "\tcount:  1\n",
      "\tcorrect:  0\n",
      "\taccuracy:  0.0\n"
     ]
    }
   ],
   "source": [
    "calc_stats(\"middle_categorization.csv\", \"BERT_Base/analyze_middle.txt\")"
   ]
  },
  {
   "cell_type": "code",
   "execution_count": 6,
   "metadata": {},
   "outputs": [
    {
     "name": "stdout",
     "output_type": "stream",
     "text": [
      "Lexical Matching\n",
      "\tcount:  69\n",
      "\tcorrect:  65\n",
      "\taccuracy:  0.9420289855072463\n",
      "Logical Reasoning\n",
      "\tcount:  21\n",
      "\tcorrect:  10\n",
      "\taccuracy:  0.47619047619047616\n",
      "Relation Identification\n",
      "\tcount:  5\n",
      "\tcorrect:  1\n",
      "\taccuracy:  0.2\n",
      "Summary\n",
      "\tcount:  28\n",
      "\tcorrect:  19\n",
      "\taccuracy:  0.6785714285714286\n",
      "Coreference Resolution\n",
      "\tcount:  2\n",
      "\tcorrect:  1\n",
      "\taccuracy:  0.5\n",
      "Algebraic Reasoning\n",
      "\tcount:  4\n",
      "\tcorrect:  1\n",
      "\taccuracy:  0.25\n",
      "Commonsense Reasoning\n",
      "\tcount:  15\n",
      "\tcorrect:  9\n",
      "\taccuracy:  0.6\n",
      "Special Questions\n",
      "\tcount:  6\n",
      "\tcorrect:  5\n",
      "\taccuracy:  0.8333333333333334\n"
     ]
    }
   ],
   "source": [
    "calc_stats(\"high_categorization.csv\", \"BERT_Base/analyze_high.txt\")"
   ]
  },
  {
   "cell_type": "code",
   "execution_count": 7,
   "metadata": {},
   "outputs": [
    {
     "name": "stdout",
     "output_type": "stream",
     "text": [
      "Lexical Matching\n",
      "\tcount:  81\n",
      "\tcorrect:  75\n",
      "\taccuracy:  0.9259259259259259\n",
      "Logical Reasoning\n",
      "\tcount:  13\n",
      "\tcorrect:  10\n",
      "\taccuracy:  0.7692307692307693\n",
      "Relation Identification\n",
      "\tcount:  11\n",
      "\tcorrect:  5\n",
      "\taccuracy:  0.45454545454545453\n",
      "Summary\n",
      "\tcount:  14\n",
      "\tcorrect:  11\n",
      "\taccuracy:  0.7857142857142857\n",
      "Coreference Resolution\n",
      "\tcount:  5\n",
      "\tcorrect:  4\n",
      "\taccuracy:  0.8\n",
      "Algebraic Reasoning\n",
      "\tcount:  4\n",
      "\tcorrect:  1\n",
      "\taccuracy:  0.25\n",
      "Commonsense Reasoning\n",
      "\tcount:  20\n",
      "\tcorrect:  10\n",
      "\taccuracy:  0.5\n",
      "Special Questions\n",
      "\tcount:  1\n",
      "\tcorrect:  0\n",
      "\taccuracy:  0.0\n"
     ]
    }
   ],
   "source": [
    "calc_stats(\"middle_categorization.csv\", \"BERT_Large/analyze_middle.txt\")"
   ]
  },
  {
   "cell_type": "code",
   "execution_count": 8,
   "metadata": {},
   "outputs": [
    {
     "name": "stdout",
     "output_type": "stream",
     "text": [
      "Lexical Matching\n",
      "\tcount:  69\n",
      "\tcorrect:  57\n",
      "\taccuracy:  0.8260869565217391\n",
      "Logical Reasoning\n",
      "\tcount:  21\n",
      "\tcorrect:  15\n",
      "\taccuracy:  0.7142857142857143\n",
      "Relation Identification\n",
      "\tcount:  5\n",
      "\tcorrect:  3\n",
      "\taccuracy:  0.6\n",
      "Summary\n",
      "\tcount:  28\n",
      "\tcorrect:  22\n",
      "\taccuracy:  0.7857142857142857\n",
      "Coreference Resolution\n",
      "\tcount:  2\n",
      "\tcorrect:  2\n",
      "\taccuracy:  1.0\n",
      "Algebraic Reasoning\n",
      "\tcount:  4\n",
      "\tcorrect:  2\n",
      "\taccuracy:  0.5\n",
      "Commonsense Reasoning\n",
      "\tcount:  15\n",
      "\tcorrect:  7\n",
      "\taccuracy:  0.4666666666666667\n",
      "Special Questions\n",
      "\tcount:  6\n",
      "\tcorrect:  5\n",
      "\taccuracy:  0.8333333333333334\n"
     ]
    }
   ],
   "source": [
    "calc_stats(\"high_categorization.csv\", \"BERT_Large/analyze_high.txt\")"
   ]
  },
  {
   "cell_type": "code",
   "execution_count": 9,
   "metadata": {},
   "outputs": [
    {
     "name": "stdout",
     "output_type": "stream",
     "text": [
      "Lexical Matching\n",
      "\tcount:  81\n",
      "\tcorrect:  75\n",
      "\taccuracy:  0.9259259259259259\n",
      "Logical Reasoning\n",
      "\tcount:  13\n",
      "\tcorrect:  9\n",
      "\taccuracy:  0.6923076923076923\n",
      "Relation Identification\n",
      "\tcount:  11\n",
      "\tcorrect:  5\n",
      "\taccuracy:  0.45454545454545453\n",
      "Summary\n",
      "\tcount:  14\n",
      "\tcorrect:  9\n",
      "\taccuracy:  0.6428571428571429\n",
      "Coreference Resolution\n",
      "\tcount:  5\n",
      "\tcorrect:  3\n",
      "\taccuracy:  0.6\n",
      "Algebraic Reasoning\n",
      "\tcount:  4\n",
      "\tcorrect:  1\n",
      "\taccuracy:  0.25\n",
      "Commonsense Reasoning\n",
      "\tcount:  20\n",
      "\tcorrect:  6\n",
      "\taccuracy:  0.3\n",
      "Special Questions\n",
      "\tcount:  1\n",
      "\tcorrect:  0\n",
      "\taccuracy:  0.0\n"
     ]
    }
   ],
   "source": [
    "calc_stats(\"middle_categorization.csv\", \"DCMN_Base/analyze_middle.txt\")"
   ]
  },
  {
   "cell_type": "code",
   "execution_count": 10,
   "metadata": {},
   "outputs": [
    {
     "name": "stdout",
     "output_type": "stream",
     "text": [
      "Lexical Matching\n",
      "\tcount:  69\n",
      "\tcorrect:  60\n",
      "\taccuracy:  0.8695652173913043\n",
      "Logical Reasoning\n",
      "\tcount:  21\n",
      "\tcorrect:  11\n",
      "\taccuracy:  0.5238095238095238\n",
      "Relation Identification\n",
      "\tcount:  5\n",
      "\tcorrect:  2\n",
      "\taccuracy:  0.4\n",
      "Summary\n",
      "\tcount:  28\n",
      "\tcorrect:  19\n",
      "\taccuracy:  0.6785714285714286\n",
      "Coreference Resolution\n",
      "\tcount:  2\n",
      "\tcorrect:  1\n",
      "\taccuracy:  0.5\n",
      "Algebraic Reasoning\n",
      "\tcount:  4\n",
      "\tcorrect:  0\n",
      "\taccuracy:  0.0\n",
      "Commonsense Reasoning\n",
      "\tcount:  15\n",
      "\tcorrect:  10\n",
      "\taccuracy:  0.6666666666666666\n",
      "Special Questions\n",
      "\tcount:  6\n",
      "\tcorrect:  5\n",
      "\taccuracy:  0.8333333333333334\n"
     ]
    }
   ],
   "source": [
    "calc_stats(\"high_categorization.csv\", \"DCMN_Base/analyze_high.txt\")"
   ]
  },
  {
   "cell_type": "code",
   "execution_count": null,
   "metadata": {},
   "outputs": [],
   "source": []
  }
 ],
 "metadata": {
  "kernelspec": {
   "display_name": "Python 3",
   "language": "python",
   "name": "python3"
  },
  "language_info": {
   "codemirror_mode": {
    "name": "ipython",
    "version": 3
   },
   "file_extension": ".py",
   "mimetype": "text/x-python",
   "name": "python",
   "nbconvert_exporter": "python",
   "pygments_lexer": "ipython3",
   "version": "3.7.0"
  }
 },
 "nbformat": 4,
 "nbformat_minor": 2
}
